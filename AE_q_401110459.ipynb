{
  "cells": [
    {
      "cell_type": "markdown",
      "metadata": {
        "id": "SubPIIAsZM6L"
      },
      "source": [
        "<h2 style = 'color: blue'> Auto Encoders <h2>\n"
      ]
    },
    {
      "cell_type": "markdown",
      "metadata": {
        "id": "ED2W8NC7ZM6N"
      },
      "source": [
        "In this notebook, we start by implementing a vanilla AutoEncoder and then modify it to learn the distribution of the input instead of its features. The actual meaning of the features is determined and learned by the model as it processes the inputs and their corresponding outputs. Then we will make it convolutional and compare the results."
      ]
    },
    {
      "cell_type": "code",
      "execution_count": 6,
      "metadata": {
        "id": "4TlYGM5EZM6O"
      },
      "outputs": [],
      "source": [
        "''' Import required libraries '''\n",
        "\n",
        "import torch\n",
        "from torch.utils.data import random_split, DataLoader\n",
        "import random\n",
        "import matplotlib.pyplot as plt\n",
        "from torchvision import transforms, datasets\n",
        "import torch.optim as optim\n",
        "import torch.nn as nn\n",
        "import torch.nn.functional as F"
      ]
    },
    {
      "cell_type": "markdown",
      "metadata": {
        "id": "CVjLwMz3ZM6P"
      },
      "source": [
        "<h4 style = 'color: green'> First we explore the dataset <h4>\n"
      ]
    },
    {
      "cell_type": "code",
      "execution_count": 3,
      "metadata": {
        "colab": {
          "base_uri": "https://localhost:8080/"
        },
        "id": "GuQ9M1S0ZM6P",
        "outputId": "63947a21-82e9-4cd4-89d2-f6fb46b1287f"
      },
      "outputs": [
        {
          "output_type": "stream",
          "name": "stdout",
          "text": [
            "Downloading http://yann.lecun.com/exdb/mnist/train-images-idx3-ubyte.gz\n",
            "Failed to download (trying next):\n",
            "HTTP Error 404: Not Found\n",
            "\n",
            "Downloading https://ossci-datasets.s3.amazonaws.com/mnist/train-images-idx3-ubyte.gz\n",
            "Downloading https://ossci-datasets.s3.amazonaws.com/mnist/train-images-idx3-ubyte.gz to mnist/MNIST/raw/train-images-idx3-ubyte.gz\n"
          ]
        },
        {
          "output_type": "stream",
          "name": "stderr",
          "text": [
            "100%|██████████| 9.91M/9.91M [00:00<00:00, 16.1MB/s]\n"
          ]
        },
        {
          "output_type": "stream",
          "name": "stdout",
          "text": [
            "Extracting mnist/MNIST/raw/train-images-idx3-ubyte.gz to mnist/MNIST/raw\n",
            "\n",
            "Downloading http://yann.lecun.com/exdb/mnist/train-labels-idx1-ubyte.gz\n",
            "Failed to download (trying next):\n",
            "HTTP Error 404: Not Found\n",
            "\n",
            "Downloading https://ossci-datasets.s3.amazonaws.com/mnist/train-labels-idx1-ubyte.gz\n",
            "Downloading https://ossci-datasets.s3.amazonaws.com/mnist/train-labels-idx1-ubyte.gz to mnist/MNIST/raw/train-labels-idx1-ubyte.gz\n"
          ]
        },
        {
          "output_type": "stream",
          "name": "stderr",
          "text": [
            "100%|██████████| 28.9k/28.9k [00:00<00:00, 497kB/s]\n"
          ]
        },
        {
          "output_type": "stream",
          "name": "stdout",
          "text": [
            "Extracting mnist/MNIST/raw/train-labels-idx1-ubyte.gz to mnist/MNIST/raw\n",
            "\n",
            "Downloading http://yann.lecun.com/exdb/mnist/t10k-images-idx3-ubyte.gz\n",
            "Failed to download (trying next):\n",
            "HTTP Error 404: Not Found\n",
            "\n",
            "Downloading https://ossci-datasets.s3.amazonaws.com/mnist/t10k-images-idx3-ubyte.gz\n",
            "Downloading https://ossci-datasets.s3.amazonaws.com/mnist/t10k-images-idx3-ubyte.gz to mnist/MNIST/raw/t10k-images-idx3-ubyte.gz\n"
          ]
        },
        {
          "output_type": "stream",
          "name": "stderr",
          "text": [
            "100%|██████████| 1.65M/1.65M [00:00<00:00, 4.50MB/s]\n"
          ]
        },
        {
          "output_type": "stream",
          "name": "stdout",
          "text": [
            "Extracting mnist/MNIST/raw/t10k-images-idx3-ubyte.gz to mnist/MNIST/raw\n",
            "\n",
            "Downloading http://yann.lecun.com/exdb/mnist/t10k-labels-idx1-ubyte.gz\n",
            "Failed to download (trying next):\n",
            "HTTP Error 404: Not Found\n",
            "\n",
            "Downloading https://ossci-datasets.s3.amazonaws.com/mnist/t10k-labels-idx1-ubyte.gz\n",
            "Downloading https://ossci-datasets.s3.amazonaws.com/mnist/t10k-labels-idx1-ubyte.gz to mnist/MNIST/raw/t10k-labels-idx1-ubyte.gz\n"
          ]
        },
        {
          "output_type": "stream",
          "name": "stderr",
          "text": [
            "100%|██████████| 4.54k/4.54k [00:00<00:00, 4.19MB/s]\n"
          ]
        },
        {
          "output_type": "stream",
          "name": "stdout",
          "text": [
            "Extracting mnist/MNIST/raw/t10k-labels-idx1-ubyte.gz to mnist/MNIST/raw\n",
            "\n"
          ]
        }
      ],
      "source": [
        "batch_size = 64\n",
        "\n",
        "t = transforms.Compose([\n",
        "    transforms.ToTensor()\n",
        "])\n",
        "\n",
        "data = datasets.MNIST(root='mnist/', download=True, transform=t)\n",
        "train, test = random_split(data, [50000, 10000])\n",
        "\n",
        "train_loader = DataLoader(dataset=train, batch_size=batch_size, shuffle= True)"
      ]
    },
    {
      "cell_type": "markdown",
      "metadata": {
        "id": "X36GTroAZM6P"
      },
      "source": [
        "Visualize some random samples from the dataset"
      ]
    },
    {
      "cell_type": "code",
      "execution_count": 7,
      "metadata": {
        "colab": {
          "base_uri": "https://localhost:8080/",
          "height": 607
        },
        "id": "xFt6Ntr4ZM6P",
        "outputId": "768beb72-e808-4f7f-94a3-ef2941359808"
      },
      "outputs": [
        {
          "output_type": "display_data",
          "data": {
            "text/plain": [
              "<Figure size 600x600 with 9 Axes>"
            ],
            "image/png": "[encoded data removed]"
          },
          "metadata": {}
        }
      ],
      "source": [
        "''' visualization '''\n",
        "\n",
        "def display_random_images(data_loader):\n",
        "    batch = next(iter(data_loader))\n",
        "    imgs, lbls = batch\n",
        "\n",
        "    fig, axes = plt.subplots(3, 3, figsize=(6, 6))\n",
        "    for ax, img, lbl in zip(axes.flatten(), imgs, lbls):\n",
        "        ax.imshow(img.squeeze(), cmap='gray')\n",
        "        ax.set_title(f'Label: {lbl.item()}')\n",
        "        ax.axis('off')\n",
        "\n",
        "    plt.tight_layout()\n",
        "    plt.show()\n",
        "\n",
        "display_random_images(train_loader)"
      ]
    },
    {
      "cell_type": "markdown",
      "metadata": {
        "id": "46X5ZDx_ZM6Q"
      },
      "source": [
        "<img  style = \"height: 500px; display: flex; justify-content: center;\" src = 'https://b2633864.smushcdn.com/2633864/wp-content/uploads/2023/07/vanilla-AE.png?size=630x472&lossy=2&strip=1&webp=1'>\n"
      ]
    },
    {
      "cell_type": "markdown",
      "metadata": {
        "id": "wDIw7B5YZM6Q"
      },
      "source": [
        "Imagine we have a 28x28 pixel image. We save n features of this image, and later, we can reconstruct the image using just these features. There's a magical machine that knows how to extract these n features from the original image, and another machine that knows how to reconstruct the image based on those features. When training an AutoEncoder, these two machines, called the encoder and decoder, learn how to perform these operations.\n",
        "\n",
        "The encoder learns how to compress the image into a smaller feature space, while the decoder learns how to reconstruct the original image from this compressed representation."
      ]
    },
    {
      "cell_type": "markdown",
      "metadata": {
        "id": "cgwuPo9hZM6Q"
      },
      "source": [
        "<h4 style = 'color: green'> Here you implement an AutoEncoder <h4>\n"
      ]
    },
    {
      "cell_type": "code",
      "execution_count": 8,
      "metadata": {
        "id": "nZf-NX7dZM6R"
      },
      "outputs": [],
      "source": [
        "''' AutoEncoder class '''\n",
        "\n",
        "class AE(torch.nn.Module):\n",
        "    def __init__(self, input_size, hidden_size, feature_size):\n",
        "        super(AE, self).__init__()\n",
        "\n",
        "        # Encoder\n",
        "        self.encoder = torch.nn.Sequential(\n",
        "            torch.nn.Conv2d(1, 16, kernel_size=3, stride=1, padding=1),\n",
        "            torch.nn.ReLU(),\n",
        "            torch.nn.MaxPool2d(kernel_size=2, stride=2),\n",
        "            torch.nn.Conv2d(16, 32, kernel_size=3, stride=1, padding=1),\n",
        "            torch.nn.ReLU(),\n",
        "            torch.nn.MaxPool2d(kernel_size=2, stride=2),\n",
        "            torch.nn.Flatten(),\n",
        "            torch.nn.Linear(32*7*7, hidden_size),\n",
        "            torch.nn.ReLU()\n",
        "        )\n",
        "\n",
        "        # Decoder\n",
        "        self.decoder = torch.nn.Sequential(\n",
        "            torch.nn.Linear(hidden_size, 32*7*7),\n",
        "            torch.nn.ReLU(),\n",
        "            torch.nn.Unflatten(1, (32, 7, 7)),\n",
        "            torch.nn.ConvTranspose2d(32, 16, kernel_size=3, stride=2, padding=1, output_padding=1),\n",
        "            torch.nn.ReLU(),\n",
        "            torch.nn.ConvTranspose2d(16, 1, kernel_size=3, stride=2, padding=1, output_padding=1),\n",
        "            torch.nn.Sigmoid()\n",
        "        )\n",
        "\n",
        "    def forward(self, x):\n",
        "        encoded = self.encoder(x)\n",
        "        decoded = self.decoder(encoded)\n",
        "        return decoded\n",
        "\n"
      ]
    },
    {
      "cell_type": "markdown",
      "metadata": {
        "id": "5ZqHgYFPZM6R"
      },
      "source": [
        "Before we start training and evaluation, let's implement a variation of this model. During inference, in the traditional AutoEncoder, each image is mapped to a fixed vector of features, and the model is strict about this exact representation. Instead of using fixed numbers, we can keep a distribution, allowing for smoother interpolation in the feature space.\n",
        "\n",
        "To achieve this, we introduce two vectors for each image: one representing the mean, and the other representing the log of the variance. Both vectors have the same size as the original feature space. In other words, we now have the parameters required to define a unique normal distribution for each image.\n",
        "\n",
        "<img  style = \"height: 500px; display: flex; justify-content: center;\" src = 'https://github.com/bvezilic/Variational-autoencoder/raw/master/assets/VAE.001.jpeg'>\n",
        "\n",
        "\n",
        "During decoding, instead of using a fixed feature vector, we sample from this distribution to build the features. This makes our model more flexible and generative, allowing it to create variations of images similar to those in the training dataset."
      ]
    },
    {
      "cell_type": "markdown",
      "metadata": {
        "id": "opt1QWJ-ZM6R"
      },
      "source": [
        "<div style=\"color: orange;\">\n",
        "  <h3>Now you might ask two questions:</h3>\n",
        "  <ul>\n",
        "    <li>Why do we keep the logarithm of the variance instead of the standard deviation?</li>\n",
        "    <p>In short, it's due to numerical instability. If you're not convinced, you can check\n",
        "      <a href=\"https://stats.stackexchange.com/questions/353220/why-in-variational-auto-encoder-gaussian-variational-family-we-model-log-sig\" style=\"color: blue;\">here</a>.\n",
        "    </p>\n",
        "    <li>How and where do we reparameterize?</li>\n",
        "    <p>All you need to do during reparameterization is to compute the standard deviation using the formula:</p>\n",
        "    <p style=\"font-weight: bold; text-align: center;\">std = e<sup>0.5 * logvar</sup></p>\n",
        "    <p>This can be implemented in the reparameterization function within the class below.</p>\n",
        "  \n",
        "  </ul>\n",
        "</div>\n"
      ]
    },
    {
      "cell_type": "markdown",
      "metadata": {
        "id": "SW4x-EKvZM6R"
      },
      "source": [
        "<h4 style = 'color: green'> Now you implement a Variational AutoEncoder <h4>\n"
      ]
    },
    {
      "cell_type": "code",
      "execution_count": 14,
      "metadata": {
        "id": "OccgGrhZZM6S"
      },
      "outputs": [],
      "source": [
        "''' Variational AutoEncoder class '''\n",
        "\n",
        "\n",
        "\n",
        "class VAE(AE):\n",
        "    def __init__(self, input_size, hidden_size, feature_size):\n",
        "        super(VAE, self).__init__(input_size, hidden_size, feature_size)\n",
        "\n",
        "        self.encoder = nn.Sequential(\n",
        "            nn.Linear(input_size, hidden_size),\n",
        "            nn.ReLU(),\n",
        "            nn.Linear(hidden_size, feature_size),\n",
        "        )\n",
        "\n",
        "        self.fc_mu = nn.Linear(feature_size, feature_size)\n",
        "        self.fc_logvar = nn.Linear(feature_size, feature_size)\n",
        "\n",
        "        self.decoder = nn.Sequential(\n",
        "            nn.Linear(feature_size, hidden_size),\n",
        "            nn.ReLU(),\n",
        "            nn.Linear(hidden_size, input_size),\n",
        "            nn.Sigmoid()\n",
        "        )\n",
        "\n",
        "    def reparameterize(self, mu, logVar):\n",
        "        std = torch.exp(0.5 * logVar)\n",
        "        eps = torch.randn_like(std)\n",
        "        return mu + std * eps\n",
        "\n",
        "    def forward(self, x):\n",
        "        h = self.encoder(x)\n",
        "        mu, logVar = self.fc_mu(h), self.fc_logvar(h)\n",
        "        z = self.reparameterize(mu, logVar)\n",
        "        return self.decoder(z), mu, logVar\n",
        "\n",
        "    def loss_function(self, recon_x, x, mu, logVar):\n",
        "        recon_loss = F.binary_cross_entropy(recon_x, x, reduction='sum')\n",
        "        kl_div = -0.5 * torch.sum(1 + logVar - mu.pow(2) - logVar.exp())\n",
        "        return recon_loss + kl_div\n",
        "\n"
      ]
    },
    {
      "cell_type": "markdown",
      "metadata": {
        "id": "_1wOUtIgZM6S"
      },
      "source": [
        "<h4 style = 'color: green'> Here, we first train the AE and then the VAE <h4>\n"
      ]
    },
    {
      "cell_type": "code",
      "execution_count": 10,
      "metadata": {
        "colab": {
          "base_uri": "https://localhost:8080/",
          "height": 519
        },
        "id": "fuOCVixCZM6S",
        "outputId": "11b812d7-5712-40ff-f576-25efe6a70438"
      },
      "outputs": [
        {
          "output_type": "stream",
          "name": "stdout",
          "text": [
            "Epoch [1/10], Loss: 0.035816876495214145\n",
            "Epoch [2/10], Loss: 0.01109431177208586\n",
            "Epoch [3/10], Loss: 0.008242531157339283\n",
            "Epoch [4/10], Loss: 0.006958241823374692\n",
            "Epoch [5/10], Loss: 0.006143183551628685\n",
            "Epoch [6/10], Loss: 0.005596003530885253\n",
            "Epoch [7/10], Loss: 0.0051577996356589025\n",
            "Epoch [8/10], Loss: 0.004817108321777733\n",
            "Epoch [9/10], Loss: 0.0045445354371343545\n",
            "Epoch [10/10], Loss: 0.004320219299658333\n"
          ]
        },
        {
          "output_type": "display_data",
          "data": {
            "text/plain": [
              "<Figure size 1200x400 with 10 Axes>"
            ],
            "image/png": "[encoded data removed]"
          },
          "metadata": {}
        }
      ],
      "source": [
        "''' Train loop for AE '''\n",
        "\n",
        "lr = 1e-3\n",
        "epochs = 10\n",
        "device = torch.device(\"cuda\" if torch.cuda.is_available() else \"cpu\")\n",
        "test_loader = DataLoader(dataset=test, batch_size=batch_size, shuffle=False)\n",
        "model = AE(input_size=784, hidden_size=128, feature_size=784).to(device)\n",
        "optimizer = torch.optim.Adam(model.parameters(), lr=lr)\n",
        "loss_fn = torch.nn.MSELoss()\n",
        "\n",
        "for epoch in range(epochs):\n",
        "    model.train()\n",
        "    running_loss = 0.0\n",
        "    for images, _ in train_loader:\n",
        "        images = images.to(device)\n",
        "\n",
        "        optimizer.zero_grad()\n",
        "\n",
        "\n",
        "        outputs = model(images)\n",
        "\n",
        "\n",
        "        loss = loss_fn(outputs, images)\n",
        "\n",
        "\n",
        "        loss.backward()\n",
        "        optimizer.step()\n",
        "\n",
        "        running_loss += loss.item()\n",
        "\n",
        "    print(f\"Epoch [{epoch+1}/{epochs}], Loss: {running_loss/len(train_loader)}\")\n",
        "\n",
        "\n",
        "visualize_reconstruction(model, test_loader)\n"
      ]
    },
    {
      "cell_type": "markdown",
      "metadata": {
        "id": "dpCxyvDFZM6S"
      },
      "source": [
        "Implement a function that takes the model and the number of images as inputs, samples random images from your test dataset, and displays both the original and reconstructed images."
      ]
    },
    {
      "cell_type": "code",
      "execution_count": 11,
      "metadata": {
        "colab": {
          "base_uri": "https://localhost:8080/",
          "height": 410
        },
        "id": "44NqJtZyZM6S",
        "outputId": "7eab0f2f-9b29-4733-f5bf-d37b9d69c7f3"
      },
      "outputs": [
        {
          "output_type": "display_data",
          "data": {
            "text/plain": [
              "<Figure size 1000x400 with 10 Axes>"
            ],
            "image/png": "[encoded data removed]"
          },
          "metadata": {}
        }
      ],
      "source": [
        "''' evaluation '''\n",
        "def visualize_reconstruction(model, data_loader, num_images=5):\n",
        "    model.eval()\n",
        "\n",
        "    with torch.no_grad():\n",
        "        images, _ = next(iter(data_loader))\n",
        "        images = images.to(device)\n",
        "\n",
        "        reconstructed = model(images)\n",
        "\n",
        "    images = images.cpu().numpy()\n",
        "    reconstructed = reconstructed.cpu().numpy()\n",
        "\n",
        "    fig, axes = plt.subplots(2, num_images, figsize=(num_images * 2, 4))\n",
        "\n",
        "    for i in range(num_images):\n",
        "        axes[0, i].imshow(images[i].squeeze(), cmap='gray')\n",
        "        axes[0, i].axis('off')\n",
        "        axes[1, i].imshow(reconstructed[i].squeeze(), cmap='gray')\n",
        "        axes[1, i].axis('off')\n",
        "\n",
        "    axes[0, 0].set_title(\"Original\")\n",
        "    axes[1, 0].set_title(\"Reconstructed\")\n",
        "\n",
        "    plt.tight_layout()\n",
        "    plt.show()\n",
        "\n",
        "visualize_reconstruction(model, test_loader, num_images=5)\n",
        "\n"
      ]
    },
    {
      "cell_type": "markdown",
      "metadata": {
        "id": "LYOpOU6fZM6S"
      },
      "source": [
        "<h4 style = 'color: green'> Now we do exactly the same but this time for the VAE <h4>\n"
      ]
    },
    {
      "cell_type": "markdown",
      "metadata": {
        "id": "aOEiW8-UZM6S"
      },
      "source": [
        "Here, KL is a good choice, so we consider this loss with the proper weight in our training loop.\n",
        "\n",
        "The KL (Kullback-Leibler) loss measures the difference between two probability distributions. In Variational Autoencoders (VAEs), KL loss ensures that the learned latent space follows a standard normal distribution.\n",
        "\n",
        "The formula for KL loss is:\n",
        "\n",
        "$\n",
        "\\text{KL}(q(z \\mid x) \\| p(z)) = -\\frac{1}{2} \\sum \\left( 1 + \\log(\\sigma^2) - \\mu^2 - \\sigma^2 \\right)\n",
        "$\n"
      ]
    },
    {
      "cell_type": "code",
      "execution_count": 17,
      "metadata": {
        "colab": {
          "base_uri": "https://localhost:8080/"
        },
        "id": "wF_cm-e3ZM6T",
        "outputId": "24d24c11-d524-46f8-8a84-5369aa34e75b"
      },
      "outputs": [
        {
          "output_type": "stream",
          "name": "stdout",
          "text": [
            "Training VAE...\n",
            "Epoch [1/10] - Loss: 0.3014, Reconstruction: 0.0733, KL: 0.2281\n",
            "Epoch [2/10] - Loss: 0.0678, Reconstruction: 0.0677, KL: 0.0002\n",
            "Epoch [3/10] - Loss: 0.0676, Reconstruction: 0.0676, KL: 0.0000\n",
            "Epoch [4/10] - Loss: 0.0675, Reconstruction: 0.0675, KL: 0.0000\n",
            "Epoch [5/10] - Loss: 0.0675, Reconstruction: 0.0675, KL: 0.0000\n",
            "Epoch [6/10] - Loss: 0.0675, Reconstruction: 0.0675, KL: 0.0000\n",
            "Epoch [7/10] - Loss: 0.0675, Reconstruction: 0.0675, KL: 0.0000\n",
            "Epoch [8/10] - Loss: 0.0675, Reconstruction: 0.0675, KL: 0.0000\n",
            "Epoch [9/10] - Loss: 0.0674, Reconstruction: 0.0674, KL: 0.0000\n",
            "Epoch [10/10] - Loss: 0.0675, Reconstruction: 0.0674, KL: 0.0000\n"
          ]
        }
      ],
      "source": [
        "''' Train loop for VAE '''\n",
        "\n",
        "\n",
        "\n",
        "\n",
        "lr = 1e-3\n",
        "epochs = 10\n",
        "input_dim = 28 * 28\n",
        "hidden_dim = 128\n",
        "latent_dim = 64\n",
        "\n",
        "vae = VAE(input_dim, hidden_dim, latent_dim)\n",
        "optimizer = optim.Adam(vae.parameters(), lr=lr)\n",
        "mse = nn.MSELoss()\n",
        "\n",
        "print(\"Training VAE...\")\n",
        "for epoch in range(epochs):\n",
        "    vae.train()\n",
        "    total_loss, rec_loss, kl_div = 0, 0, 0\n",
        "\n",
        "    for batch, (x, _) in enumerate(train_loader):\n",
        "        x = x.view(x.size(0), -1)\n",
        "\n",
        "        x_recon, mu, log_var = vae(x)\n",
        "\n",
        "        rec_err = mse(x_recon, x)\n",
        "        kl_err = -0.5 * torch.sum(1 + log_var - mu.pow(2) - log_var.exp())\n",
        "        loss = rec_err + kl_err\n",
        "\n",
        "        optimizer.zero_grad()\n",
        "        loss.backward()\n",
        "        optimizer.step()\n",
        "\n",
        "        total_loss += loss.item()\n",
        "        rec_loss += rec_err.item()\n",
        "        kl_div += kl_err.item()\n",
        "\n",
        "    print(f\"Epoch [{epoch+1}/{epochs}] - \"\n",
        "          f\"Loss: {total_loss/len(train_loader):.4f}, \"\n",
        "          f\"Reconstruction: {rec_loss/len(train_loader):.4f}, \"\n",
        "          f\"KL: {kl_div/len(train_loader):.4f}\")\n"
      ]
    },
    {
      "cell_type": "markdown",
      "metadata": {
        "id": "igEa5-9QZM6T"
      },
      "source": [
        "Same as you did, compare the constructed images and original ones but this time with the VAE model"
      ]
    },
    {
      "cell_type": "code",
      "execution_count": 38,
      "metadata": {
        "colab": {
          "base_uri": "https://localhost:8080/",
          "height": 1000
        },
        "id": "dxR7qK1AZM6T",
        "outputId": "46bb1630-9b35-4442-850f-680c2d7177c5"
      },
      "outputs": [
        {
          "output_type": "display_data",
          "data": {
            "text/plain": [
              "<Figure size 600x1000 with 10 Axes>"
            ],
            "image/png": "[encoded data removed]"
          },
          "metadata": {}
        }
      ],
      "source": [
        "''' evaluation '''\n",
        "import torch\n",
        "import numpy as np\n",
        "import matplotlib.pyplot as plt\n",
        "\n",
        "def evaluate_vae(model, test_loader, num_images=5):\n",
        "    model.eval()\n",
        "\n",
        "    images = []\n",
        "    reconstructed_images = []\n",
        "\n",
        "    with torch.no_grad():\n",
        "        for i, (data, _) in enumerate(test_loader):\n",
        "            if i * data.size(0) >= num_images:\n",
        "                break\n",
        "\n",
        "            data = data.view(data.size(0), -1)\n",
        "\n",
        "\n",
        "            reconstructed, mu, logVar = model(data)\n",
        "\n",
        "\n",
        "            images.append(data[:num_images].cpu().numpy())\n",
        "            reconstructed_images.append(reconstructed[:num_images].cpu().numpy())\n",
        "\n",
        "\n",
        "    images = np.concatenate(images, axis=0)\n",
        "    reconstructed_images = np.concatenate(reconstructed_images, axis=0)\n",
        "\n",
        "\n",
        "    fig, axes = plt.subplots(num_images, 2, figsize=(6, num_images * 2))\n",
        "    for i in range(num_images):\n",
        "\n",
        "        ax = axes[i, 0]\n",
        "        ax.imshow(images[i].reshape(28, 28), cmap='gray')\n",
        "        ax.set_title(\"Original Image\")\n",
        "        ax.axis('off')\n",
        "\n",
        "\n",
        "        ax = axes[i, 1]\n",
        "        ax.imshow(reconstructed_images[i].reshape(28, 28), cmap='gray')\n",
        "        ax.set_title(\"Reconstructed Image\")\n",
        "        ax.axis('off')\n",
        "\n",
        "    plt.tight_layout()\n",
        "    plt.show()\n",
        "evaluate_vae(vae, test_loader, num_images=5)\n"
      ]
    },
    {
      "cell_type": "markdown",
      "metadata": {
        "id": "VDFESjRVZM6T"
      },
      "source": [
        "This time, we modify the VAE to process the input using convolutional layers. Implement a convolutional VAE with an architecture of your choice, but keep it as simple as possible."
      ]
    },
    {
      "cell_type": "code",
      "execution_count": 26,
      "metadata": {
        "id": "EYiV0cMWZM6T"
      },
      "outputs": [],
      "source": [
        "\n",
        "\n",
        "import torch\n",
        "import torch.nn as nn\n",
        "import torch.nn.functional as F\n",
        "\n",
        "class CNNVAE(nn.Module):\n",
        "    def __init__(self, latent_dim=10):\n",
        "        super(CNNVAE, self).__init__()\n",
        "\n",
        "        self.encoder_conv1 = nn.Conv2d(1, 32, kernel_size=3, stride=2, padding=1)\n",
        "        self.encoder_conv2 = nn.Conv2d(32, 64, kernel_size=3, stride=2, padding=1)\n",
        "        self.encoder_fc = nn.Linear(64 * 7 * 7, 256)\n",
        "\n",
        "        self.fc_mu = nn.Linear(256, latent_dim)\n",
        "        self.fc_logvar = nn.Linear(256, latent_dim)\n",
        "\n",
        "        self.decoder_fc = nn.Linear(latent_dim, 256)\n",
        "        self.decoder_fc2 = nn.Linear(256, 64 * 7 * 7)\n",
        "\n",
        "        self.decoder_conv1 = nn.ConvTranspose2d(64, 32, kernel_size=3, stride=2, padding=1, output_padding=1)\n",
        "        self.decoder_conv2 = nn.ConvTranspose2d(32, 1, kernel_size=3, stride=2, padding=1, output_padding=1)\n",
        "\n",
        "    def reparameterize(self, mu, logvar):\n",
        "        std = torch.exp(0.5 * logvar)\n",
        "        eps = torch.randn_like(std)\n",
        "        return mu + eps * std\n",
        "\n",
        "    def forward(self, x):\n",
        "        x = F.relu(self.encoder_conv1(x))\n",
        "        x = F.relu(self.encoder_conv2(x))\n",
        "        x = x.view(x.size(0), -1)\n",
        "        x = F.relu(self.encoder_fc(x))\n",
        "\n",
        "        mu, logvar = self.fc_mu(x), self.fc_logvar(x)\n",
        "        z = self.reparameterize(mu, logvar)\n",
        "\n",
        "        x = F.relu(self.decoder_fc(z))\n",
        "        x = F.relu(self.decoder_fc2(x))\n",
        "        x = x.view(-1, 64, 7, 7)\n",
        "\n",
        "        x = F.relu(self.decoder_conv1(x))\n",
        "        x = torch.sigmoid(self.decoder_conv2(x))\n",
        "\n",
        "        return x, mu, logvar\n",
        "\n",
        "    def loss_function(self, recon_x, x, mu, logvar):\n",
        "        bce = F.binary_cross_entropy(recon_x.view(-1, 28 * 28), x.view(-1, 28 * 28), reduction='sum')\n",
        "        kl = -0.5 * torch.sum(1 + logvar - mu.pow(2) - logvar.exp())\n",
        "        return bce + kl\n",
        "\n",
        "\n"
      ]
    },
    {
      "cell_type": "markdown",
      "metadata": {
        "id": "fRqRZnaRZM6T"
      },
      "source": [
        "Train your convolutional VAE model (same as you did for VAE)"
      ]
    },
    {
      "cell_type": "code",
      "execution_count": 27,
      "metadata": {
        "colab": {
          "base_uri": "https://localhost:8080/"
        },
        "id": "JhxrWMD0ZM6T",
        "outputId": "2b1bdd1a-843e-43b9-fc79-b31625e6daa1"
      },
      "outputs": [
        {
          "output_type": "stream",
          "name": "stdout",
          "text": [
            "Epoch [1/30], Loss: 0.000326235034596\n",
            "Epoch [2/30], Loss: 0.000141172000642\n",
            "Epoch [3/30], Loss: 0.000122401300895\n",
            "Epoch [4/30], Loss: 0.000113554033544\n",
            "Epoch [5/30], Loss: 0.000107789143097\n",
            "Epoch [6/30], Loss: 0.000103623720693\n",
            "Epoch [7/30], Loss: 0.000100212069896\n",
            "Epoch [8/30], Loss: 0.000097180379322\n",
            "Epoch [9/30], Loss: 0.000094853139870\n",
            "Epoch [10/30], Loss: 0.000092654889527\n",
            "Epoch [11/30], Loss: 0.000090729503520\n",
            "Epoch [12/30], Loss: 0.000089220770433\n",
            "Epoch [13/30], Loss: 0.000087526843930\n",
            "Epoch [14/30], Loss: 0.000086321403490\n",
            "Epoch [15/30], Loss: 0.000085186269615\n",
            "Epoch [16/30], Loss: 0.000084146560418\n",
            "Epoch [17/30], Loss: 0.000083052444722\n",
            "Epoch [18/30], Loss: 0.000082089631027\n",
            "Epoch [19/30], Loss: 0.000081334334255\n",
            "Epoch [20/30], Loss: 0.000080643354155\n",
            "Epoch [21/30], Loss: 0.000079834787423\n",
            "Epoch [22/30], Loss: 0.000079193171176\n",
            "Epoch [23/30], Loss: 0.000078564127985\n",
            "Epoch [24/30], Loss: 0.000077913104386\n",
            "Epoch [25/30], Loss: 0.000077344734206\n",
            "Epoch [26/30], Loss: 0.000076867394196\n",
            "Epoch [27/30], Loss: 0.000076363477561\n",
            "Epoch [28/30], Loss: 0.000075841950920\n",
            "Epoch [29/30], Loss: 0.000075421587300\n",
            "Epoch [30/30], Loss: 0.000074847460724\n"
          ]
        }
      ],
      "source": [
        "''' Train loop '''\n",
        "\n",
        "\n",
        "\n",
        "device = torch.device(\"cuda\" if torch.cuda.is_available() else \"cpu\")\n",
        "\n",
        "model = CNNVAE(latent_dim=10).to(device)\n",
        "\n",
        "lr = 1e-3\n",
        "epochs = 30\n",
        "optimizer = optim.Adam(model.parameters(), lr=lr)\n",
        "mse_loss = torch.nn.MSELoss()\n",
        "\n",
        "for epoch in range(epochs):\n",
        "    model.train()\n",
        "    total_loss = 0\n",
        "\n",
        "    for data, _ in train_loader:\n",
        "        data = data.to(device)\n",
        "\n",
        "        optimizer.zero_grad()\n",
        "        recon_batch, mu, logvar = model(data)\n",
        "        loss = mse_loss(recon_batch, data.view(recon_batch.size()))\n",
        "\n",
        "        loss.backward()\n",
        "        optimizer.step()\n",
        "\n",
        "        total_loss += loss.item()\n",
        "\n",
        "    avg_loss = total_loss / len(train_loader.dataset)\n",
        "    print(f'Epoch [{epoch+1}/{epochs}], Loss: {avg_loss:.15f}')\n",
        "\n"
      ]
    },
    {
      "cell_type": "markdown",
      "metadata": {
        "id": "aZmW1GX7ZM6U"
      },
      "source": [
        "Compare the reconstructed and original images as you did before, but for the model you have just trained"
      ]
    },
    {
      "cell_type": "code",
      "execution_count": 28,
      "metadata": {
        "colab": {
          "base_uri": "https://localhost:8080/",
          "height": 1000
        },
        "id": "u7sYpCifZM6U",
        "outputId": "823e0d25-a02a-419f-ee33-6884fb214d07"
      },
      "outputs": [
        {
          "output_type": "display_data",
          "data": {
            "text/plain": [
              "<Figure size 500x1000 with 10 Axes>"
            ],
            "image/png": "[encoded data removed]"
          },
          "metadata": {}
        }
      ],
      "source": [
        "''' evaluation '''\n",
        "\n",
        "\n",
        "\n",
        "def evaluate(model, test_loader, num_images=5):\n",
        "    model.eval()\n",
        "\n",
        "    images, _ = next(iter(test_loader))\n",
        "    indices = torch.randint(0, images.size(0), (num_images,))\n",
        "    selected_images = images[indices].to(device)\n",
        "\n",
        "    with torch.no_grad():\n",
        "        recon_images, _, _ = model(selected_images)\n",
        "\n",
        "    fig, axes = plt.subplots(num_images, 2, figsize=(5, num_images * 2))\n",
        "\n",
        "    for i in range(num_images):\n",
        "        axes[i, 0].imshow(selected_images[i].cpu().numpy().transpose(1, 2, 0))\n",
        "        axes[i, 0].set_title(f\"Original {i+1}\")\n",
        "        axes[i, 0].axis('off')\n",
        "\n",
        "        axes[i, 1].imshow(recon_images[i].cpu().numpy().transpose(1, 2, 0))\n",
        "        axes[i, 1].set_title(f\"Reconstructed {i+1}\")\n",
        "        axes[i, 1].axis('off')\n",
        "\n",
        "    plt.tight_layout()\n",
        "    plt.show()\n",
        "\n",
        "evaluate(model, test_loader, num_images=5)\n",
        "\n"
      ]
    }
  ],
  "metadata": {
    "kernelspec": {
      "display_name": "DL",
      "language": "python",
      "name": "python3"
    },
    "language_info": {
      "codemirror_mode": {
        "name": "ipython",
        "version": 3
      },
      "file_extension": ".py",
      "mimetype": "text/x-python",
      "name": "python",
      "nbconvert_exporter": "python",
      "pygments_lexer": "ipython3",
      "version": "3.11.0"
    },
    "colab": {
      "provenance": []
    }
  },
  "nbformat": 4,
  "nbformat_minor": 0
}