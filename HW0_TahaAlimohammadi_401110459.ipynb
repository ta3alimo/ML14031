{
 "cells": [
  {
   "cell_type": "markdown",
   "metadata": {
    "id": "Ix2c76EjQ6mJ"
   },
   "source": [
    "<h1 align=\"center\"> </h1>\n",
    "<h1 align=\"center\">Introduction to Machine Learning</h1>\n",
    "<h3 align=\"center\">Dr. Emad Fatemizadeh</h3>\n",
    "<h5 align=\"center\">Sharif University of Technology<br/>Department of Electrical Engineering</h5>\n",
    "\n",
    "----\n",
    "\n",
    "Welcome to your first assignment in Machine Learning! This exercise will give you a practical introduction to Python programming.\n",
    "\n",
    "> **Instructions:**\n",
    "> * Use Python 3 for all tasks.\n",
    "> * Name your submission file as ***HW#_Name_StudentID***.\n",
    "> * Ensure that the work you submit is your own; sharing answers is strictly prohibited.\n",
    "> * If you have any questions or need clarification, please contact the course assistant on Telegram at '@radinkhayyam'.\n",
    "\n",
    "Looking forward to seeing your solutions and wish you the best of luck!\n"
   ]
  },
  {
   "cell_type": "code",
   "execution_count": 1,
   "metadata": {
    "colab": {
     "base_uri": "https://localhost:8080/"
    },
    "id": "RGJq3bYsQ0bE",
    "outputId": "fc61f6a5-acf6-40f2-944f-3f3f1aec15ac"
   },
   "outputs": [
    {
     "name": "stdout",
     "output_type": "stream",
     "text": [
      "StudentName:Taha Alimohammadi , StudentID:401110459\n"
     ]
    }
   ],
   "source": [
    "### Please Fill the following entries\n",
    "StudentName = \"Taha Alimohammadi\"\n",
    "StudentID   = \"401110459\"\n",
    "\n",
    "print (f'StudentName:{StudentName} , StudentID:{StudentID}')"
   ]
  },
  {
   "cell_type": "markdown",
   "metadata": {
    "id": "FjKOOXlfTPap"
   },
   "source": [
    "## **Question 1: Lists**\n",
    "\n",
    "\n",
    "1. Define a list named `fruits` that contains the following items: `\"apple\"`, `\"banana\"`, `\"cherry\"`, `\"date\"`, `\"elderberry\"`.\n",
    "\n",
    "\n",
    "\n"
   ]
  },
  {
   "cell_type": "code",
   "execution_count": 4,
   "metadata": {
    "id": "NaLVtPToCe9Z"
   },
   "outputs": [],
   "source": [
    "#Todo\n",
    "fruits = [\"apple\", \"banana\", \"cherry\", \"date\", \"elderberry\"]"
   ]
  },
  {
   "cell_type": "markdown",
   "metadata": {
    "id": "kTV47AtkCfaF"
   },
   "source": [
    "2. Print the `fruits` list to the console."
   ]
  },
  {
   "cell_type": "code",
   "execution_count": 5,
   "metadata": {
    "id": "GfeN3aujCiqZ"
   },
   "outputs": [
    {
     "name": "stdout",
     "output_type": "stream",
     "text": [
      "['apple', 'banana', 'cherry', 'date', 'elderberry']\n"
     ]
    }
   ],
   "source": [
    "#Todo\n",
    "print(fruits)"
   ]
  },
  {
   "cell_type": "markdown",
   "metadata": {
    "id": "1DT-IK4kCi-b"
   },
   "source": [
    "3. Print the first and last elements of the `fruits` list.\n",
    "\n"
   ]
  },
  {
   "cell_type": "code",
   "execution_count": 7,
   "metadata": {
    "id": "DV96ClNaCkiM"
   },
   "outputs": [
    {
     "name": "stdout",
     "output_type": "stream",
     "text": [
      "The first fruit is: apple\n",
      "The last fruit is: elderberry\n"
     ]
    }
   ],
   "source": [
    "#Todo\n",
    "print(f\"The first fruit is: {fruits[0]}\")\n",
    "print(f\"The last fruit is: {fruits[-1]}\")"
   ]
  },
  {
   "cell_type": "markdown",
   "metadata": {
    "id": "4V9dcuF3Cky1"
   },
   "source": [
    "4. Add the fruit `\"fig\"` to the end of the `fruits` list.\n",
    "\n"
   ]
  },
  {
   "cell_type": "code",
   "execution_count": 9,
   "metadata": {
    "id": "p7IL9EsHCmcF"
   },
   "outputs": [
    {
     "name": "stdout",
     "output_type": "stream",
     "text": [
      "['apple', 'banana', 'cherry', 'date', 'elderberry', 'fig']\n"
     ]
    }
   ],
   "source": [
    "#Todo\n",
    "fruits.append(\"fig\")\n",
    "print(fruits)"
   ]
  },
  {
   "cell_type": "markdown",
   "metadata": {
    "id": "LgXo0y4lCms_"
   },
   "source": [
    "5. Remove `\"banana\"` from the `fruits` list."
   ]
  },
  {
   "cell_type": "code",
   "execution_count": 11,
   "metadata": {
    "id": "608Fg8KdCq7o"
   },
   "outputs": [
    {
     "name": "stdout",
     "output_type": "stream",
     "text": [
      "['apple', 'cherry', 'date', 'elderberry', 'fig']\n"
     ]
    }
   ],
   "source": [
    "#Todo\n",
    "fruits.remove(\"banana\")\n",
    "print(fruits)"
   ]
  },
  {
   "cell_type": "markdown",
   "metadata": {
    "id": "dMaLH1dpCrOX"
   },
   "source": [
    "6. Update the third item in the `fruits` list to `\"coconut\"`.\n",
    "\n"
   ]
  },
  {
   "cell_type": "code",
   "execution_count": 12,
   "metadata": {
    "id": "4ezemMRKCtSn"
   },
   "outputs": [
    {
     "name": "stdout",
     "output_type": "stream",
     "text": [
      "['apple', 'cherry', 'coconut', 'elderberry', 'fig']\n"
     ]
    }
   ],
   "source": [
    "#Todo\n",
    "fruits[2] = \"coconut\"\n",
    "print(fruits)"
   ]
  },
  {
   "cell_type": "markdown",
   "metadata": {
    "id": "3Vmlm3X2Ct1l"
   },
   "source": [
    "7. Print the number of items in the `fruits` list."
   ]
  },
  {
   "cell_type": "code",
   "execution_count": 13,
   "metadata": {
    "id": "u7RgqJODG8qs"
   },
   "outputs": [
    {
     "name": "stdout",
     "output_type": "stream",
     "text": [
      "Number of items in the fruits list: 5\n"
     ]
    }
   ],
   "source": [
    "#Todo\n",
    "print(f\"Number of items in the fruits list: {len(fruits)}\")"
   ]
  },
  {
   "cell_type": "markdown",
   "metadata": {
    "id": "X9krDGvBG887"
   },
   "source": [
    "8. Use a `for` loop to print each fruit in the `fruits` list.\n",
    "\n"
   ]
  },
  {
   "cell_type": "code",
   "execution_count": 14,
   "metadata": {
    "id": "Fkqfpxb1G_uj"
   },
   "outputs": [
    {
     "name": "stdout",
     "output_type": "stream",
     "text": [
      "apple\n",
      "cherry\n",
      "coconut\n",
      "elderberry\n",
      "fig\n"
     ]
    }
   ],
   "source": [
    "#Todo\n",
    "for fruit in fruits:\n",
    "    print(fruit)"
   ]
  },
  {
   "cell_type": "markdown",
   "metadata": {
    "id": "kPuH70DyHCBd"
   },
   "source": [
    "9. Print a sublist containing the second through fourth items of the `fruits` list (inclusive).\n",
    "\n"
   ]
  },
  {
   "cell_type": "code",
   "execution_count": 15,
   "metadata": {
    "id": "2I0ryqkDAkIb"
   },
   "outputs": [
    {
     "name": "stdout",
     "output_type": "stream",
     "text": [
      "['cherry', 'coconut', 'elderberry']\n"
     ]
    }
   ],
   "source": [
    "# Todo\n",
    "print(fruits[1:4])"
   ]
  },
  {
   "cell_type": "markdown",
   "metadata": {
    "id": "pG5vtAYqHEi9"
   },
   "source": [
    "10. Check if the fruit `\"apple\"` is in the list and print `True` or `False` accordingly."
   ]
  },
  {
   "cell_type": "code",
   "execution_count": 16,
   "metadata": {
    "id": "NpefM8FFHDwb"
   },
   "outputs": [
    {
     "name": "stdout",
     "output_type": "stream",
     "text": [
      "True\n"
     ]
    }
   ],
   "source": [
    "#Todo\n",
    "print(\"apple\" in fruits)"
   ]
  },
  {
   "cell_type": "markdown",
   "metadata": {
    "id": "kr8xB5sUAtaO"
   },
   "source": [
    "## **Question 2: Dictionaries**\n",
    "\n"
   ]
  },
  {
   "cell_type": "markdown",
   "metadata": {
    "id": "KUYG_1tTWGsU"
   },
   "source": [
    "You are given a dictionary `employees` where each key is an employee's name and the value is another dictionary with the employee's `department` and `salary`. Complete the following tasks by filling in the code.\n",
    "\n",
    "**Given Data:**"
   ]
  },
  {
   "cell_type": "code",
   "execution_count": 17,
   "metadata": {
    "id": "0A-2I7ZTV9fB"
   },
   "outputs": [],
   "source": [
    "employees = {\n",
    "    \"Alice\": {\"department\": \"Engineering\", \"salary\": 90000},\n",
    "    \"Bob\": {\"department\": \"Marketing\", \"salary\": 70000},\n",
    "    \"Charlie\": {\"department\": \"Engineering\", \"salary\": 95000},\n",
    "    \"David\": {\"department\": \"HR\", \"salary\": 60000},\n",
    "    \"Eve\": {\"department\": \"Marketing\", \"salary\": 72000},\n",
    "}"
   ]
  },
  {
   "cell_type": "markdown",
   "metadata": {
    "id": "efCRU6-TWPSp"
   },
   "source": [
    "1. Write code to create a list of employee names who work in the `\"Engineering\"` department."
   ]
  },
  {
   "cell_type": "code",
   "execution_count": 19,
   "metadata": {
    "id": "C1zp4kP9WbB9"
   },
   "outputs": [
    {
     "name": "stdout",
     "output_type": "stream",
     "text": [
      "['Alice', 'Charlie']\n"
     ]
    }
   ],
   "source": [
    "#Todo\n",
    "EngineeringEmployees = [name for name, info in employees.items() if info[\"department\"] == \"Engineering\"]\n",
    "print(EngineeringEmployees)"
   ]
  },
  {
   "cell_type": "markdown",
   "metadata": {
    "id": "d8rSXTqzWjIN"
   },
   "source": [
    "2. Write code to calculate the average salary of employees in the `\"Marketing\"` department. If there are no employees in that department, set `average_marketing_salary` to `None`."
   ]
  },
  {
   "cell_type": "code",
   "execution_count": 20,
   "metadata": {
    "id": "StURhMopWnxb"
   },
   "outputs": [
    {
     "name": "stdout",
     "output_type": "stream",
     "text": [
      "71000.0\n"
     ]
    }
   ],
   "source": [
    "#Todo\n",
    "MarketingSalaries = [info[\"salary\"] for info in employees.values() if info[\"department\"] == \"Marketing\"]\n",
    "\n",
    "if MarketingSalaries:\n",
    "    AverageMarketingSalary = sum(MarketingSalaries) / len(MarketingSalaries)\n",
    "else:\n",
    "    AverageMarketingSalary = None\n",
    "\n",
    "print(AverageMarketingSalary)"
   ]
  },
  {
   "cell_type": "markdown",
   "metadata": {
    "id": "mDsUomxjW0k5"
   },
   "source": [
    "3. Write code to find the names of the employees with the highest and lowest salaries. If there are no employees, set `highest_salary_employee` and `lowest_salary_employee` to `None`."
   ]
  },
  {
   "cell_type": "code",
   "execution_count": 21,
   "metadata": {
    "id": "cfK_BA_xW1R_"
   },
   "outputs": [
    {
     "name": "stdout",
     "output_type": "stream",
     "text": [
      "Employee with the highest salary: Charlie\n",
      "Employee with the lowest salary: David\n"
     ]
    }
   ],
   "source": [
    "#Todo\n",
    "highest_salary_employee = None\n",
    "lowest_salary_employee = None\n",
    "\n",
    "if employees:\n",
    "    \n",
    "    salaries = [(info[\"salary\"], name) for name, info in employees.items()]\n",
    "    highest_salary_employee = max(salaries)[1]\n",
    "    lowest_salary_employee = min(salaries)[1]\n",
    "\n",
    "print(\"Employee with the highest salary:\", highest_salary_employee)\n",
    "print(\"Employee with the lowest salary:\", lowest_salary_employee)"
   ]
  },
  {
   "cell_type": "markdown",
   "metadata": {
    "id": "8NBI8WZmW3-_"
   },
   "source": [
    "4. Write code to generate a report showing the total salary and average salary for each department. Store this in a dictionary `department_report` where the keys are department names and the values are dictionaries with `\"total_salary\"` and `\"average_salary\"`."
   ]
  },
  {
   "cell_type": "code",
   "execution_count": 22,
   "metadata": {
    "id": "4knHDRDNXCpx"
   },
   "outputs": [
    {
     "name": "stdout",
     "output_type": "stream",
     "text": [
      "{'Engineering': {'total_salary': 185000, 'average_salary': 92500.0}, 'Marketing': {'total_salary': 142000, 'average_salary': 71000.0}, 'HR': {'total_salary': 60000, 'average_salary': 60000.0}}\n"
     ]
    }
   ],
   "source": [
    "#Todo\n",
    "department_report = {}\n",
    "for employee, info in employees.items():\n",
    "    department = info[\"department\"]\n",
    "    salary = info[\"salary\"]\n",
    "\n",
    "    if department not in department_report:\n",
    "        department_report[department] = {\"total_salary\": 0, \"employee_count\": 0}\n",
    "    \n",
    "    department_report[department][\"total_salary\"] += salary\n",
    "    department_report[department][\"employee_count\"] += 1\n",
    "\n",
    "for department, data in department_report.items():\n",
    "    data[\"average_salary\"] = data[\"total_salary\"] / data[\"employee_count\"]\n",
    "    del data[\"employee_count\"]\n",
    "\n",
    "print(department_report)"
   ]
  },
  {
   "cell_type": "markdown",
   "metadata": {
    "id": "q04x3mUdXPLG"
   },
   "source": [
    "## **Question 3: Functions**"
   ]
  },
  {
   "cell_type": "markdown",
   "metadata": {
    "id": "u2lPOrAGcqjS"
   },
   "source": [
    "Implement an algorithm to find the length of the longest increasing subsequence (LIS) in a list of integers. The LIS is a subsequence of a list where each element is strictly greater than the preceding one.\n",
    "\n",
    "\n",
    "Write a function named `length_of_lis` that takes a list of integers `nums` as input and returns the length of the longest increasing subsequence."
   ]
  },
  {
   "cell_type": "markdown",
   "metadata": {
    "id": "4RueWFzMdKTg"
   },
   "source": [
    "Some examples:\n",
    "   - `nums = [10, 9, 2, 5, 3, 7, 101, 18]` (Expected output: `4`, LIS is `[2, 3, 7, 101]`)\n",
    "   - `nums = [0, 1, 0, 3, 2, 3]` (Expected output: `4`, LIS is `[0, 1, 3]`)\n",
    "   - `nums = [7, 7, 7, 7, 7, 7, 7]` (Expected output: `1`, LIS is `[7]`)"
   ]
  },
  {
   "cell_type": "code",
   "execution_count": 26,
   "metadata": {
    "id": "RiKwJDGhczIQ"
   },
   "outputs": [],
   "source": [
    "from typing import List\n",
    "def length_of_lis(nums: List[int]) -> int:\n",
    "    \n",
    "\n",
    "    #Todo\n",
    "    if not nums:\n",
    "        return 0\n",
    "    \n",
    "    \n",
    "    dp = [1] * len(nums)\n",
    "    \n",
    "   \n",
    "    for i in range(1, len(nums)):\n",
    "        for j in range(i):\n",
    "            if nums[i] > nums[j]:\n",
    "                dp[i] = max(dp[i], dp[j] + 1)\n",
    "    output=max(dp)\n",
    "\n",
    "    return output\n",
    "\n"
   ]
  },
  {
   "cell_type": "code",
   "execution_count": 27,
   "metadata": {
    "id": "UGNRWyimj4e8"
   },
   "outputs": [
    {
     "name": "stdout",
     "output_type": "stream",
     "text": [
      "11\n"
     ]
    }
   ],
   "source": [
    "nums = [10, 13, 14, 15, 23, 21, 24, 24, 25, 27, 32, 35, 42]\n",
    "print(length_of_lis(nums))"
   ]
  },
  {
   "cell_type": "markdown",
   "metadata": {
    "id": "dtlwIeVXeG_b"
   },
   "source": [
    "## **Question 4: Touples**"
   ]
  },
  {
   "cell_type": "markdown",
   "metadata": {
    "id": "Fr4lKLvgeuB-"
   },
   "source": [
    "1. **Tuple Sorting**\n",
    "\n",
    "Write a function named `sort_tuples_by_second_element` that takes a list of tuples as input. Each tuple contains two elements: a string and an integer. The function should sort the list of tuples based on the integer values (second element of the tuple) in ascending order and return the sorted list."
   ]
  },
  {
   "cell_type": "code",
   "execution_count": 28,
   "metadata": {
    "id": "rnCH6w8Ce1KP"
   },
   "outputs": [],
   "source": [
    "from typing import List, Tuple\n",
    "def sort_tuples_by_second_element(tuples_list: List[Tuple[str, int]]) -> List[Tuple[str, int]]:\n",
    "    \n",
    "\n",
    "    #Todo\n",
    "    sorted_list = sorted(tuples_list, key=lambda x: x[1])\n",
    "    return sorted_list\n"
   ]
  },
  {
   "cell_type": "code",
   "execution_count": 29,
   "metadata": {
    "id": "shrLzF-re_Hj"
   },
   "outputs": [
    {
     "name": "stdout",
     "output_type": "stream",
     "text": [
      "[('banana', 2), ('apple', 4), ('cherry', 5)]\n"
     ]
    }
   ],
   "source": [
    "tuples_list = [(\"apple\", 4), (\"banana\", 2), (\"cherry\", 5)]\n",
    "sorted_list = sort_tuples_by_second_element(tuples_list)\n",
    "print(sorted_list)  # Output: [('banana', 2), ('apple', 4), ('cherry', 5)]"
   ]
  },
  {
   "cell_type": "markdown",
   "metadata": {
    "id": "MGGvwbovfZy-"
   },
   "source": [
    "2. **Tuple Unpacking and Aggregation**\n",
    "\n",
    "   Write a function named `aggregate_tuples` that takes a list of tuples as input. Each tuple contains a string and an integer. The function should return a dictionary where the keys are the strings from the tuples, and the values are the sum of the corresponding integers."
   ]
  },
  {
   "cell_type": "code",
   "execution_count": 30,
   "metadata": {
    "id": "fiirSPKVfePi"
   },
   "outputs": [],
   "source": [
    "from typing import List, Tuple, Dict\n",
    "\n",
    "def aggregate_tuples(tuples_list: List[Tuple[str, int]]) -> Dict[str, int]:\n",
    "\n",
    "  #Todo\n",
    "    aggregated_dict = {}\n",
    "    \n",
    "    for string, number in tuples_list:\n",
    "        if string in aggregated_dict:\n",
    "            aggregated_dict[string] += number\n",
    "        else:\n",
    "            aggregated_dict[string] = number\n",
    "            \n",
    "    return aggregated_dict"
   ]
  },
  {
   "cell_type": "code",
   "execution_count": 31,
   "metadata": {
    "id": "clrRFgQ9fhmr"
   },
   "outputs": [
    {
     "name": "stdout",
     "output_type": "stream",
     "text": [
      "{'apple': 4, 'banana': 5}\n"
     ]
    }
   ],
   "source": [
    "tuples_list = [(\"apple\", 3), (\"banana\", 2), (\"apple\", 1), (\"banana\", 3)]\n",
    "aggregated_dict = aggregate_tuples(tuples_list)\n",
    "print(aggregated_dict)  # Output: {'apple': 4, 'banana': 5}"
   ]
  },
  {
   "cell_type": "markdown",
   "metadata": {
    "id": "HYGQSTUthT3_"
   },
   "source": [
    "## **Question 4: Object-oriented Programming**"
   ]
  },
  {
   "cell_type": "markdown",
   "metadata": {
    "id": "KSnD6x9Qhemg"
   },
   "source": [
    "This exercise aims to help you understand and practice object-oriented programming (OOP) in Python by creating a simple library management system. You will work with classes, objects, and methods to model a library’s operations.\n",
    "\n",
    "#### Instructions:\n",
    "\n",
    "1. **Define Classes**\n",
    "   - **`Book` Class:** Create a class to represent a book with attributes such as title, author, ISBN, and a status indicating whether the book is checked out. Implement methods to check out, return, and display book details.\n",
    "   - **`Member` Class:** Create a class to represent a library member with attributes like member ID, name, and a list of checked-out books. Implement methods for checking out and returning books and displaying member details.\n",
    "   - **`Library` Class:** Create a class to manage the collection of books and members. Implement methods to add books and members, find books and members by their identifiers, and display library details.\n",
    "\n",
    "2. **Implement Methods**\n",
    "   - Fill in the missing parts of the methods in each class. Ensure that each method performs the required operations, such as updating the book's status when checked out or returned, and managing the member's list of checked-out books.\n",
    "\n",
    "3. **Test Your Implementation**\n",
    "   - Create instances of `Book`, `Member`, and `Library`. Perform actions such as adding books and members to the library, having members check out and return books, and displaying the current status of books and members."
   ]
  },
  {
   "cell_type": "code",
   "execution_count": 1,
   "metadata": {
    "id": "PTSxO_hJiwZK"
   },
   "outputs": [],
   "source": [
    "class Book:\n",
    "    def __init__(self, title, author, isbn):\n",
    "        self.title = title\n",
    "        self.author = author\n",
    "        self.isbn = isbn\n",
    "        self.is_checked_out = False\n",
    "\n",
    "    def check_out(self):\n",
    "        if not self.is_checked_out:\n",
    "            self.is_checked_out = True\n",
    "            print(f\"The book '{self.title}' has been checked out.\")\n",
    "        else:\n",
    "            print(f\"The book '{self.title}' is already checked out.\")\n",
    "\n",
    "    def return_book(self):\n",
    "        if self.is_checked_out:\n",
    "            self.is_checked_out = False\n",
    "            print(f\"The book '{self.title}' has been returned.\")\n",
    "        else:\n",
    "            print(f\"The book '{self.title}' was not checked out.\")\n",
    "\n",
    "    def __str__(self):\n",
    "        status = \"Checked Out\" if self.is_checked_out else \"Available\"\n",
    "        return f\"Title: {self.title}, Author: {self.author}, ISBN: {self.isbn}, Status: {status}\"\n",
    "\n"
   ]
  },
  {
   "cell_type": "code",
   "execution_count": 2,
   "metadata": {
    "id": "lznuVZY1ixAS"
   },
   "outputs": [],
   "source": [
    "\n",
    "class Member:\n",
    "    def __init__(self, member_id, name):\n",
    "        self.member_id = member_id\n",
    "        self.name = name\n",
    "        self.checked_out_books = []\n",
    "\n",
    "    def check_out_book(self, book):\n",
    "        if not book.is_checked_out:\n",
    "            book.check_out()\n",
    "            self.checked_out_books.append(book)\n",
    "        else:\n",
    "            print(f\"The book '{book.title}' is already checked out by someone else.\")\n",
    "\n",
    "    def return_book(self, book):\n",
    "        if book in self.checked_out_books:\n",
    "            book.return_book()\n",
    "            self.checked_out_books.remove(book)\n",
    "        else:\n",
    "            print(f\"The book '{book.title}' is not in {self.name}'s checked-out list.\")\n",
    "\n",
    "    def __str__(self):\n",
    "        checked_out_titles = [book.title for book in self.checked_out_books]\n",
    "        return f\"Member ID: {self.member_id}, Name: {self.name}, Checked-out books: {checked_out_titles if checked_out_titles else 'None'}\"\n"
   ]
  },
  {
   "cell_type": "code",
   "execution_count": 3,
   "metadata": {
    "id": "8qZqkg6pi081"
   },
   "outputs": [],
   "source": [
    "class Library:\n",
    "    def __init__(self):\n",
    "        self.books = []\n",
    "        self.members = []\n",
    "\n",
    "    def add_book(self, book):\n",
    "        self.books.append(book)\n",
    "        print(f\"Book '{book.title}' added to the library.\")\n",
    "\n",
    "    def add_member(self, member):\n",
    "        self.members.append(member)\n",
    "        print(f\"Member '{member.name}' added to the library.\")\n",
    "\n",
    "    def find_book(self, isbn):\n",
    "        for book in self.books:\n",
    "            if book.isbn == isbn:\n",
    "                return book\n",
    "        return \"Book not found.\"\n",
    "\n",
    "    def find_member(self, member_id):\n",
    "        for member in self.members:\n",
    "            if member.member_id == member_id:\n",
    "                return member\n",
    "        return \"Member not found.\"\n",
    "\n",
    "    def __str__(self):\n",
    "        book_list = ', '.join([book.title for book in self.books])\n",
    "        member_list = ', '.join([member.name for member in self.members])\n",
    "        return f\"Library Books: {book_list if book_list else 'No books'}\\nLibrary Members: {member_list if member_list else 'No members'}\"\n"
   ]
  },
  {
   "cell_type": "markdown",
   "metadata": {
    "id": "zBA7-jvijGk9"
   },
   "source": [
    "**Test:**"
   ]
  },
  {
   "cell_type": "code",
   "execution_count": 4,
   "metadata": {
    "id": "gMpk-7sIjFrr"
   },
   "outputs": [
    {
     "name": "stdout",
     "output_type": "stream",
     "text": [
      "Book 'The Great Gatsby' added to the library.\n",
      "Book 'To Kill a Mockingbird' added to the library.\n",
      "Member 'Alice Smith' added to the library.\n",
      "Member 'Bob Johnson' added to the library.\n",
      "Initial Library Status:\n",
      "Library Books: The Great Gatsby, To Kill a Mockingbird\n",
      "Library Members: Alice Smith, Bob Johnson\n",
      "\n",
      "Alice Smith checks out 'The Great Gatsby':\n",
      "The book 'The Great Gatsby' has been checked out.\n",
      "\n",
      "Library Status after Checking Out:\n",
      "Library Books: The Great Gatsby, To Kill a Mockingbird\n",
      "Library Members: Alice Smith, Bob Johnson\n",
      "\n",
      "Alice Smith's Status:\n",
      "Member ID: 001, Name: Alice Smith, Checked-out books: ['The Great Gatsby']\n",
      "\n",
      "Alice Smith returns 'The Great Gatsby':\n",
      "The book 'The Great Gatsby' has been returned.\n",
      "\n",
      "Library Status after Returning Book:\n",
      "Library Books: The Great Gatsby, To Kill a Mockingbird\n",
      "Library Members: Alice Smith, Bob Johnson\n",
      "\n",
      "Alice Smith's Status after Return:\n",
      "Member ID: 001, Name: Alice Smith, Checked-out books: None\n",
      "\n",
      "Finding Book with ISBN 9780743273565:\n",
      "Title: The Great Gatsby, Author: F. Scott Fitzgerald, ISBN: 9780743273565, Status: Available\n",
      "\n",
      "Finding Member with ID 001:\n",
      "Member ID: 001, Name: Alice Smith, Checked-out books: None\n"
     ]
    }
   ],
   "source": [
    "# Test Bench for Library Management System\n",
    "\n",
    "# Create the Library\n",
    "library = Library()\n",
    "\n",
    "# Create Books\n",
    "book1 = Book(\"The Great Gatsby\", \"F. Scott Fitzgerald\", \"9780743273565\")\n",
    "book2 = Book(\"To Kill a Mockingbird\", \"Harper Lee\", \"9780060935467\")\n",
    "\n",
    "# Add Books to the Library\n",
    "library.add_book(book1)\n",
    "library.add_book(book2)\n",
    "\n",
    "# Create Members\n",
    "member1 = Member(\"001\", \"Alice Smith\")\n",
    "member2 = Member(\"002\", \"Bob Johnson\")\n",
    "\n",
    "# Add Members to the Library\n",
    "library.add_member(member1)\n",
    "library.add_member(member2)\n",
    "\n",
    "# Display Initial Status\n",
    "print(\"Initial Library Status:\")\n",
    "print(library)\n",
    "\n",
    "# Check Out Books\n",
    "print(\"\\nAlice Smith checks out 'The Great Gatsby':\")\n",
    "member1.check_out_book(book1)\n",
    "\n",
    "# Display Updated Status\n",
    "print(\"\\nLibrary Status after Checking Out:\")\n",
    "print(library)\n",
    "print(\"\\nAlice Smith's Status:\")\n",
    "print(member1)\n",
    "\n",
    "# Return Books\n",
    "print(\"\\nAlice Smith returns 'The Great Gatsby':\")\n",
    "member1.return_book(book1)\n",
    "\n",
    "# Display Updated Status\n",
    "print(\"\\nLibrary Status after Returning Book:\")\n",
    "print(library)\n",
    "print(\"\\nAlice Smith's Status after Return:\")\n",
    "print(member1)\n",
    "\n",
    "# Find and Display Book\n",
    "isbn_to_find = \"9780743273565\"\n",
    "print(f\"\\nFinding Book with ISBN {isbn_to_find}:\")\n",
    "found_book = library.find_book(isbn_to_find)\n",
    "print(found_book)\n",
    "\n",
    "# Find and Display Member\n",
    "member_id_to_find = \"001\"\n",
    "print(f\"\\nFinding Member with ID {member_id_to_find}:\")\n",
    "found_member = library.find_member(member_id_to_find)\n",
    "print(found_member)\n"
   ]
  },
  {
   "cell_type": "code",
   "execution_count": null,
   "metadata": {},
   "outputs": [],
   "source": []
  }
 ],
 "metadata": {
  "colab": {
   "provenance": []
  },
  "kernelspec": {
   "display_name": "Python 3 (ipykernel)",
   "language": "python",
   "name": "python3"
  },
  "language_info": {
   "codemirror_mode": {
    "name": "ipython",
    "version": 3
   },
   "file_extension": ".py",
   "mimetype": "text/x-python",
   "name": "python",
   "nbconvert_exporter": "python",
   "pygments_lexer": "ipython3",
   "version": "3.10.9"
  }
 },
 "nbformat": 4,
 "nbformat_minor": 1
}
